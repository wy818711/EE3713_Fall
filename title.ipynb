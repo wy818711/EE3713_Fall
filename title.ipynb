import numpy as np
from scipy import stats
import scipy
import warnings
warnings.simplefilter('ignore', DeprecationWarning)
